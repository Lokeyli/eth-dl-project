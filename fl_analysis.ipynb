{
 "cells": [
  {
   "cell_type": "code",
   "execution_count": 1,
   "metadata": {},
   "outputs": [
    {
     "name": "stdout",
     "output_type": "stream",
     "text": [
      "True\n"
     ]
    }
   ],
   "source": [
    "# Check if GPU is mounted\n",
    "\n",
    "import torch\n",
    "x = torch.cuda.is_available()\n",
    "print(x)"
   ]
  },
  {
   "cell_type": "code",
   "execution_count": 2,
   "metadata": {},
   "outputs": [],
   "source": [
    "# To make sure the dataset is accessable from my server\n",
    "\n",
    "import sys,os,os.path\n",
    "os.environ['HTTP_PROXY']=\"192.168.0.200:7890\"\n",
    "os.environ['HTTPS_PROXY']=\"192.168.0.200:7890\"\n",
    "\n",
    "import requests"
   ]
  },
  {
   "cell_type": "code",
   "execution_count": 3,
   "metadata": {},
   "outputs": [
    {
     "name": "stdout",
     "output_type": "stream",
     "text": [
      "Training on cuda\n",
      "Flower 1.14.0 / PyTorch 2.5.1+cu121\n"
     ]
    }
   ],
   "source": [
    "from collections import OrderedDict\n",
    "from typing import List, Tuple, Dict, Optional, Callable, Union\n",
    "from PIL import Image, ImageEnhance, ImageFilter\n",
    "import matplotlib.pyplot as plt\n",
    "\n",
    "import matplotlib.pyplot as plt\n",
    "import numpy as np\n",
    "import torch\n",
    "import torch.nn as nn\n",
    "import torch.nn.functional as F\n",
    "from torchvision import datasets\n",
    "import torchvision.transforms as transforms\n",
    "from datasets.utils.logging import disable_progress_bar\n",
    "from torch.utils.data import DataLoader, Subset, random_split\n",
    "\n",
    "from collections import OrderedDict\n",
    "\n",
    "import flwr\n",
    "from flwr.client import Client, ClientApp, NumPyClient\n",
    "from flwr.common import Metrics, Context\n",
    "from flwr.server import ServerApp, ServerConfig, ServerAppComponents, ClientManager\n",
    "from flwr.server.strategy import Strategy, FedAvg\n",
    "from flwr.simulation import run_simulation\n",
    "from flwr_datasets import FederatedDataset\n",
    "from flwr.common import ndarrays_to_parameters, NDArrays, Scalar, Context\n",
    "from flwr.common import FitRes, Parameters, parameters_to_ndarrays\n",
    "from flwr.server.client_proxy import ClientProxy\n",
    "\n",
    "device = \"cuda\" if torch.cuda.is_available() else \"cpu\"\n",
    "DEVICE = torch.device(device)  # Try \"cuda\" to train on GPU\n",
    "print(f\"Training on {DEVICE}\")\n",
    "print(f\"Flower {flwr.__version__} / PyTorch {torch.__version__}\")\n",
    "disable_progress_bar()"
   ]
  },
  {
   "cell_type": "code",
   "execution_count": 4,
   "metadata": {},
   "outputs": [],
   "source": [
    "# Some network, for MNIST dataset\n",
    "class Net(nn.Module):\n",
    "    def __init__(self):\n",
    "        super().__init__()\n",
    "        self.conv1 = nn.Conv2d(1, 6, 5)\n",
    "        self.pool = nn.MaxPool2d(2, 2)\n",
    "        self.conv2 = nn.Conv2d(6, 16, 5)\n",
    "        self.fc1 = nn.Linear(16 * 4 * 4, 120)\n",
    "        self.fc2 = nn.Linear(120, 84)\n",
    "        self.fc3 = nn.Linear(84, 10)\n",
    "\n",
    "    def forward(self, x):\n",
    "        x = self.pool(torch.relu(self.conv1(x)))\n",
    "        x = self.pool(torch.relu(self.conv2(x)))\n",
    "        x = x.view(-1, 16 * 4 * 4)\n",
    "        x = torch.relu(self.fc1(x))\n",
    "        x = torch.relu(self.fc2(x))\n",
    "        x = self.fc3(x)\n",
    "        return x"
   ]
  },
  {
   "cell_type": "code",
   "execution_count": 14,
   "metadata": {},
   "outputs": [],
   "source": [
    "transform = transforms.ToTensor()\n",
    "mnist_dataset = datasets.MNIST(root='./data', train=True, download=True, transform=transform)\n",
    "\n",
    "# Split into 8 datasets\n",
    "NUM_CLIENTS = 6\n",
    "total_size = len(mnist_dataset)\n",
    "indices = list(range(total_size))\n",
    "np.random.shuffle(indices)\n",
    "split_size = total_size // NUM_CLIENTS\n",
    "subsets = [Subset(mnist_dataset, indices[i * split_size:(i + 1) * split_size]) for i in range(NUM_CLIENTS)]\n",
    "\n",
    "# 1. Vanilla dataset\n",
    "transform_1 = transforms.ToTensor()\n",
    "\n",
    "# 2. remove all digit '7'\n",
    "class RemoveLabel7:\n",
    "    def __call__(self, dataset):\n",
    "        indices = [i for i, (_, label) in enumerate(dataset) if label != 7]\n",
    "        return Subset(dataset, indices)\n",
    "\n",
    "# 3. Apply Gaussian Blur\n",
    "class ApplyGaussianBlur:\n",
    "    def __init__(self, radius=2):\n",
    "        self.radius = radius\n",
    "\n",
    "    def __call__(self, img):\n",
    "        img = transforms.ToPILImage()(img)\n",
    "        img = img.filter(ImageFilter.GaussianBlur(self.radius))\n",
    "        img = transforms.ToTensor()(img)\n",
    "        return img\n",
    "\n",
    "transform_3 = ApplyGaussianBlur(radius=1)\n",
    "\n",
    "class LerpToWhiteNoise:\n",
    "    def __init__(self, alpha=0.5):\n",
    "        self.alpha = alpha\n",
    "\n",
    "    def __call__(self, img):\n",
    "        noise = torch.randn_like(img)\n",
    "        return (1 - self.alpha) * img + self.alpha * noise\n",
    "\n",
    "noiseImg = LerpToWhiteNoise(alpha=1)\n",
    "\n",
    "# 4. Rotate 45 degree\n",
    "transform_4 = transforms.Compose([\n",
    "    transforms.ToPILImage(),\n",
    "    transforms.Lambda(lambda img: img.rotate(45, fillcolor=(0,))),\n",
    "    transforms.ToTensor()\n",
    "])\n",
    "\n",
    "# 5. Random mean shift\n",
    "\n",
    "random_direction = np.random.rand(2) * 10\n",
    "class RandomMeanShift:\n",
    "    def __init__(self, shift_vector):\n",
    "        self.shift_vector = shift_vector\n",
    "\n",
    "    def __call__(self, img):\n",
    "        shift_x, shift_y = self.shift_vector\n",
    "        img = np.array(img)\n",
    "        img = np.roll(img, int(shift_y), axis=2)  # Shift along height\n",
    "        img = np.roll(img, int(shift_x), axis=1)  # Shift along width\n",
    "        return torch.tensor(img)\n",
    "    "
   ]
  },
  {
   "cell_type": "code",
   "execution_count": 15,
   "metadata": {},
   "outputs": [],
   "source": [
    "# Build the corresponding loaders\n",
    "\n",
    "def create_loader(subset, transType):\n",
    "    train_size = int(0.7 * len(subset))\n",
    "    val_size = int(0.1 * len(subset))\n",
    "    test_size = len(subset) - train_size - val_size\n",
    "    train_subset, val_subset, test_subset = random_split(subset, [train_size, val_size, test_size])\n",
    "\n",
    "\n",
    "    if transType == \"Gaussian Blur\":\n",
    "        train_loader = DataLoader(train_subset, batch_size=32, shuffle=True, collate_fn=lambda batch: (torch.stack([transform_3(x) for x, y in batch]), torch.tensor([y for x, y in batch])))\n",
    "        val_loader = DataLoader(val_subset, batch_size=32, shuffle=False, collate_fn=lambda batch: (torch.stack([transform_3(x) for x, y in batch]), torch.tensor([y for x, y in batch])))\n",
    "        test_loader = DataLoader(test_subset, batch_size=32, shuffle=False, collate_fn=lambda batch: (torch.stack([transform_3(x) for x, y in batch]), torch.tensor([y for x, y in batch])))\n",
    "    elif transType == \"Rotate 45\":\n",
    "        train_loader = DataLoader(train_subset, batch_size=32, shuffle=True, collate_fn=lambda batch: (torch.stack([transform_4(x) for x, y in batch]), torch.tensor([y for x, y in batch])))\n",
    "        val_loader = DataLoader(val_subset, batch_size=32, shuffle=False, collate_fn=lambda batch: (torch.stack([transform_4(x) for x, y in batch]), torch.tensor([y for x, y in batch])))\n",
    "        test_loader = DataLoader(test_subset, batch_size=32, shuffle=False, collate_fn=lambda batch: (torch.stack([transform_4(x) for x, y in batch]), torch.tensor([y for x, y in batch])))\n",
    "    elif transType == \"White noise\":\n",
    "        train_loader = DataLoader(train_subset, batch_size=32, shuffle=True, collate_fn=lambda batch: (torch.stack([noiseImg(x) for x, y in batch]), torch.tensor([y for x, y in batch])))\n",
    "        val_loader = DataLoader(val_subset, batch_size=32, shuffle=False, collate_fn=lambda batch: (torch.stack([noiseImg(x) for x, y in batch]), torch.tensor([y for x, y in batch])))\n",
    "        test_loader = DataLoader(test_subset, batch_size=32, shuffle=False, collate_fn=lambda batch: (torch.stack([noiseImg(x) for x, y in batch]), torch.tensor([y for x, y in batch])))\n",
    "    elif transType == \"Random mean shift\":\n",
    "        rand_trans = RandomMeanShift(random_direction)\n",
    "        train_loader = DataLoader(train_subset, batch_size=32, shuffle=True, collate_fn=lambda batch: (torch.stack([rand_trans(x) for x, y in batch]), torch.tensor([y for x, y in batch])))\n",
    "        val_loader = DataLoader(val_subset, batch_size=32, shuffle=False, collate_fn=lambda batch: (torch.stack([rand_trans(x) for x, y in batch]), torch.tensor([y for x, y in batch])))\n",
    "        test_loader = DataLoader(test_subset, batch_size=32, shuffle=False, collate_fn=lambda batch: (torch.stack([rand_trans(x) for x, y in batch]), torch.tensor([y for x, y in batch])))\n",
    "    \n",
    "    \n",
    "    else:\n",
    "        train_loader = DataLoader(train_subset, batch_size=32, shuffle=True)\n",
    "        val_loader = DataLoader(val_subset, batch_size=32, shuffle=False)\n",
    "        test_loader = DataLoader(test_subset, batch_size=32, shuffle=False)\n",
    "\n",
    "    return (train_loader, val_loader, test_loader)\n",
    "\n",
    "loaders = []\n",
    "fallbackType = \"Default\"\n",
    "subsetTypes = []\n",
    "for i, subset in enumerate(subsets):\n",
    "    random_direction = np.random.rand(2) * 20 - 10\n",
    "    if i < len(subsetTypes):\n",
    "        trans_type = subsetTypes[i] \n",
    "    else:\n",
    "        trans_type = fallbackType\n",
    "    loaders.append(create_loader(subset, trans_type))"
   ]
  },
  {
   "cell_type": "code",
   "execution_count": 16,
   "metadata": {},
   "outputs": [
    {
     "data": {
      "image/png": "[encoded data removed]",
      "text/plain": [
       "<Figure size 1500x600 with 6 Axes>"
      ]
     },
     "metadata": {},
     "output_type": "display_data"
    },
    {
     "data": {
      "image/png": "[encoded data removed]",
      "text/plain": [
       "<Figure size 1500x600 with 6 Axes>"
      ]
     },
     "metadata": {},
     "output_type": "display_data"
    },
    {
     "data": {
      "image/png": "[encoded data removed]",
      "text/plain": [
       "<Figure size 1500x600 with 6 Axes>"
      ]
     },
     "metadata": {},
     "output_type": "display_data"
    },
    {
     "data": {
      "image/png": "[encoded data removed]",
      "text/plain": [
       "<Figure size 1500x600 with 6 Axes>"
      ]
     },
     "metadata": {},
     "output_type": "display_data"
    }
   ],
   "source": [
    "for client_idx, (train_loader, val_loader, test_loader) in enumerate(loaders):\n",
    "    if(client_idx >= 4):\n",
    "        break\n",
    "    fig, axes = plt.subplots(1, 6, figsize=(15, 6))\n",
    "    \n",
    "    # Train\n",
    "    for j, (x, y) in enumerate(train_loader):\n",
    "        if j >= 2:\n",
    "            break\n",
    "        axes[j].imshow(x[0].squeeze(), cmap='gray')\n",
    "        axes[j].axis('off')\n",
    "        axes[j].set_title(f\"Train: {y[0].item()}\")\n",
    "    \n",
    "    # Validation\n",
    "    for j, (x, y) in enumerate(val_loader):\n",
    "        if j >= 2:\n",
    "            break\n",
    "        axes[j+2].imshow(x[0].squeeze(), cmap='gray')\n",
    "        axes[j+2].axis('off')\n",
    "        axes[j+2].set_title(f\"Val: {y[0].item()}\")\n",
    "    \n",
    "    # Test\n",
    "    for j, (x, y) in enumerate(test_loader):\n",
    "        if j >= 2:\n",
    "            break\n",
    "        axes[j+4].imshow(x[0].squeeze(), cmap='gray')\n",
    "        axes[j+4].axis('off')\n",
    "        axes[j+4].set_title(f\"Test: {y[0].item()}\")\n",
    "    \n",
    "    plt.tight_layout()\n",
    "    plt.subplots_adjust(top=0.85)\n",
    "    plt.show()"
   ]
  },
  {
   "cell_type": "code",
   "execution_count": 17,
   "metadata": {},
   "outputs": [],
   "source": [
    "# Wrap the above ugly code of flower client into a class\n",
    "\n",
    "# Helper Functions\n",
    "\n",
    "def set_parameters(net, parameters: List[np.ndarray]):\n",
    "    params_dict = zip(net.state_dict().keys(), parameters)\n",
    "    state_dict = OrderedDict({k: torch.Tensor(v) for k, v in params_dict})\n",
    "    net.load_state_dict(state_dict, strict=True)\n",
    "\n",
    "\n",
    "def get_parameters(net) -> List[np.ndarray]:\n",
    "    return [val.cpu().numpy() for _, val in net.state_dict().items()]\n",
    "\n",
    "def train(net, trainloader, epochs: int, verbose=False, device = \"cuda\"):\n",
    "    \"\"\"Train the network on the training set.\"\"\"\n",
    "    criterion = torch.nn.CrossEntropyLoss()\n",
    "    optimizer = torch.optim.Adam(net.parameters())\n",
    "    net.train()\n",
    "    net.to(device)\n",
    "    for epoch in range(epochs):\n",
    "        correct, total, epoch_loss = 0, 0, 0.0\n",
    "        for images, labels in trainloader:\n",
    "            images, labels = images.to(device), labels.to(device)\n",
    "            optimizer.zero_grad()\n",
    "            outputs = net(images)\n",
    "            loss = criterion(outputs, labels)\n",
    "            loss.backward()\n",
    "            optimizer.step()\n",
    "            # Metrics\n",
    "            epoch_loss += loss.item()\n",
    "            total += labels.size(0)\n",
    "            correct += (torch.max(outputs.data, 1)[1] == labels).sum().item()\n",
    "        epoch_loss /= len(trainloader.dataset)\n",
    "        epoch_acc = correct / total\n",
    "        if verbose:\n",
    "            print(f\"Epoch {epoch+1}: train loss {epoch_loss}, accuracy {epoch_acc}\")\n",
    "\n",
    "\n",
    "def test(net, testloader, device):\n",
    "    \"\"\"Evaluate the network on the entire test set.\"\"\"\n",
    "    criterion = torch.nn.CrossEntropyLoss()\n",
    "    correct, total, loss = 0, 0, 0.0\n",
    "    net.eval()\n",
    "    net.to(device)\n",
    "    with torch.no_grad():\n",
    "        for images, labels in testloader:\n",
    "            images, labels = images.to(device), labels.to(device)\n",
    "            outputs = net(images)\n",
    "            loss += criterion(outputs, labels).item()\n",
    "            _, predicted = torch.max(outputs.data, 1)\n",
    "            total += labels.size(0)\n",
    "            correct += (predicted == labels).sum().item()\n",
    "    loss /= len(testloader.dataset)\n",
    "    accuracy = correct / total\n",
    "    return loss, accuracy\n",
    "\n",
    "# Custom Client Class\n",
    "class FLClient(NumPyClient):\n",
    "    \"\"\"A Flower client that holds its own model and training data.\"\"\"\n",
    "\n",
    "    def __init__(\n",
    "        self,\n",
    "        net: nn.Module,\n",
    "        trainloader: DataLoader,\n",
    "        valloader: DataLoader,\n",
    "        device: torch.device,\n",
    "        client_id: int,\n",
    "        epochs: int = 1,\n",
    "    ):\n",
    "        super().__init__()\n",
    "        self.net = net\n",
    "        self.trainloader = trainloader\n",
    "        self.valloader = valloader\n",
    "        self.device = device\n",
    "        self.client_id = client_id\n",
    "        self.epochs = epochs\n",
    "\n",
    "    def get_parameters(self, config: Dict[str, Scalar]) -> List[np.ndarray]:\n",
    "        \"\"\"Return the current local model parameters.\"\"\"\n",
    "        return get_parameters(self.net)\n",
    "\n",
    "    def fit(\n",
    "        self, parameters: List[np.ndarray], config: Dict[str, Scalar]\n",
    "    ) -> Tuple[List[np.ndarray], int, Dict[str, Scalar]]:\n",
    "        set_parameters(self.net, parameters)\n",
    "        train(self.net, self.trainloader, device=self.device, epochs=self.epochs, verbose=False)\n",
    "        new_params = get_parameters(self.net)\n",
    "        # Return partition-id in the metrics\n",
    "        # The simplest way to store the model\n",
    "        return new_params, len(self.trainloader.dataset), {\"partition-id\": self.client_id}\n",
    "\n",
    "    def evaluate(\n",
    "        self, parameters: List[np.ndarray], config: Dict[str, Scalar]\n",
    "    ) -> Tuple[float, int, Dict[str, Scalar]]:\n",
    "        set_parameters(self.net, parameters)\n",
    "        loss, accuracy = test(self.net, self.valloader, self.device)\n",
    "        print(f\"[Client {self.client_id}] Evaluate -> Loss: {loss:.4f}, Accuracy: {accuracy:.4f}\")\n",
    "        return float(loss), len(self.valloader.dataset), {\"accuracy\": float(accuracy)}\n",
    "\n",
    "class DefaultStrategy(FedAvg):\n",
    "\n",
    "    # A custom strategy to store all the parameters.\n",
    "    # https://github.com/adap/flower/issues/487\n",
    "    # https://flower.ai/docs/framework/how-to-save-and-load-model-checkpoints.html\n",
    "\n",
    "    def __init__(self, model: type, total_round: int, only_last: bool = True, save_dir: str = \"models\", *args, **kwargs):\n",
    "        super().__init__(*args, **kwargs)\n",
    "        self.save_dir = save_dir\n",
    "        os.makedirs(self.save_dir, exist_ok=True)\n",
    "        self.model = model\n",
    "        self.total_round = total_round\n",
    "        self.only_last = only_last\n",
    "\n",
    "    def aggregate_fit(\n",
    "        self,\n",
    "        server_round: int,\n",
    "        results: list[tuple[ClientProxy, FitRes]],\n",
    "        failures: list[Union[tuple[ClientProxy, FitRes], BaseException]],\n",
    "    ) -> tuple[Optional[Parameters], dict[str, Scalar]]:\n",
    "        \"\"\"\n",
    "        Aggregate model weights using weighted average.\n",
    "        Also save each client's model and the global server model.\n",
    "        \"\"\"\n",
    "\n",
    "        if self.only_last and server_round < self.total_round:\n",
    "            return super().aggregate_fit(server_round, results, failures)\n",
    "\n",
    "        # Call aggregate_fit from base class (FedAvg) to aggregate parameters and metrics\n",
    "        aggregated_parameters, aggregated_metrics = super().aggregate_fit(\n",
    "            server_round, results, failures\n",
    "        )\n",
    "\n",
    "        # For each client which returned FitRes, save the client model\n",
    "        for (_, fit_res) in results:\n",
    "            id_ = fit_res.metrics[\"partition-id\"]\n",
    "\n",
    "            client_parameters: Optional[Parameters] = fit_res.parameters\n",
    "            if client_parameters is not None:\n",
    "                net = self.model()\n",
    "                print(f\"[Round {server_round}] Saving model for client {id_}...\")\n",
    "\n",
    "                # Convert `Parameters` to `list[np.ndarray]`\n",
    "                client_ndarrays : list[np.ndarray] = parameters_to_ndarrays(\n",
    "                    client_parameters\n",
    "                )\n",
    "\n",
    "                # Convert `list[np.ndarray]` to PyTorch `state_dict`\n",
    "                params_dict = zip(net.state_dict().keys(), client_ndarrays)\n",
    "                state_dict = OrderedDict({k: torch.tensor(v) for k, v in params_dict})\n",
    "                net.load_state_dict(state_dict, strict=True)\n",
    "\n",
    "                # Save the model to disk\n",
    "                torch.save(net.state_dict(), f\"{self.save_dir}/client-{server_round}-{id_}.pth\")\n",
    "\n",
    "        # If `aggregated_parameters` is not None, update the global net and save it\n",
    "        if aggregated_parameters is not None:\n",
    "            net = self.model()\n",
    "            print(f\"Saving round {server_round} aggregated_parameters...\")\n",
    "\n",
    "            # Convert `Parameters` to `list[np.ndarray]`\n",
    "            aggregated_ndarrays: list[np.ndarray] = parameters_to_ndarrays(\n",
    "                aggregated_parameters\n",
    "            )\n",
    "\n",
    "            # Convert `list[np.ndarray]` to PyTorch `state_dict`\n",
    "            params_dict = zip(net.state_dict().keys(), aggregated_ndarrays)\n",
    "            state_dict = OrderedDict({k: torch.tensor(v) for k, v in params_dict})\n",
    "            net.load_state_dict(state_dict, strict=True)\n",
    "\n",
    "            # Save the model to disk\n",
    "            torch.save(net.state_dict(), f\"{self.save_dir}/server-{server_round}.pth\")\n",
    "\n",
    "        return aggregated_parameters, aggregated_metrics\n"
   ]
  },
  {
   "cell_type": "code",
   "execution_count": 22,
   "metadata": {},
   "outputs": [],
   "source": [
    "# Use the following class to run the experiment\n",
    "\n",
    "# You need to provide the following information:\n",
    "# 1. The Network class (dont instantiate it)\n",
    "#       (assume we use the same network for all clients and server)\n",
    "# 2. The list of data loaders for each client,\n",
    "#       where loaders is a list of loader tuples (train, val, test)\n",
    "#       i.e. loaders = [ (train_loader_0, val_loader_0, test_loader_0), ... ]\n",
    "#       NOTE: In fit and evaluate, we ONLY use the train_loader and val_loader,\n",
    "#             But we ask you to pyt them together for simplicity for any future test use.\n",
    "#       NOTE: we assume the number of clients == number of data loaders\n",
    "# 3. Number of clients\n",
    "\n",
    "# See next block for an example of how to use this class\n",
    "\n",
    "class FLExperiment:\n",
    "    \"\"\"\n",
    "    A federated learning experiment interface class.\n",
    "\n",
    "    NOTE: For each client, we now expect a tuple of three DataLoaders:\n",
    "    (train_loader, val_loader, test_loader).\n",
    "    \"\"\"\n",
    "\n",
    "    def __init__(\n",
    "        self,\n",
    "        model_cls: type,\n",
    "        client_loaders: List[Tuple[DataLoader, DataLoader, DataLoader]],\n",
    "        num_clients: int,\n",
    "        device: torch.device = torch.device(\"cuda\"),\n",
    "        local_epochs: int = 1,\n",
    "        num_rounds: int = 5,\n",
    "        # strategy: Optional[Strategy] = None, # Is not supported yet. and may not be needed\n",
    "    ):\n",
    "        \"\"\"\n",
    "        Args:\n",
    "            model_cls (type): A PyTorch nn.Module class (not an instance).\n",
    "                We'll instantiate `model_cls()` for each client and server.\n",
    "            client_loaders (List[(DataLoader, DataLoader, DataLoader)]):\n",
    "                A list of (train_loader, val_loader, test_loader) for each client.\n",
    "            num_clients (int): Number of clients to simulate.\n",
    "            device (torch.device): CPU or GPU device.\n",
    "            local_epochs (int): Local epochs on each client per round.\n",
    "            num_rounds (int): How many global training rounds.\n",
    "            strategy (Optional[Strategy]): Use a custom Flower strategy or fallback to default FedAvg.\n",
    "        \"\"\"\n",
    "        while len(client_loaders) < num_clients:\n",
    "            client_loaders.append(client_loaders[0])\n",
    "        \n",
    "        \n",
    "        # if len(client_loaders) != num_clients:\n",
    "        #     raise ValueError(\n",
    "        #         f\"Number of client loader tuples ({len(client_loaders)}) does not match \"\n",
    "        #         f\"the number of clients ({num_clients}).\"\n",
    "        #     )\n",
    "\n",
    "        self.model_cls = model_cls\n",
    "        self.client_loaders = client_loaders\n",
    "        self.num_clients = num_clients\n",
    "        self.local_epochs = local_epochs\n",
    "        self.num_rounds = num_rounds\n",
    "        self.device = device\n",
    "\n",
    "        # Store final trained models\n",
    "        self._client_models: List[Optional[nn.Module]] = [None] * self.num_clients\n",
    "        self._server_model: Optional[nn.Module] = None\n",
    "\n",
    "        # Create one model per client (instantiate model_cls)\n",
    "        self.client_nets = [self.model_cls().to(self.device) for _ in range(self.num_clients)]\n",
    "\n",
    "        self.strategy = self._create_default_strategy(save_only_last=True)\n",
    "        # # Use user-provided strategy or create a default one\n",
    "        # if strategy is None:\n",
    "        #     self.strategy = self._create_default_strategy()\n",
    "        # else:\n",
    "        #     self.strategy = strategy\n",
    "\n",
    "    def _create_default_strategy(self, save_only_last: bool) -> Strategy:\n",
    "        \"\"\"Create a default FedAvg strategy with a minimal server_evaluate.\"\"\"\n",
    "\n",
    "        def server_evaluate(\n",
    "            server_round: int,\n",
    "            parameters: NDArrays,\n",
    "            config: Dict[str, Scalar]\n",
    "        ) -> Optional[Tuple[float, Dict[str, Scalar]]]:\n",
    "            # Minimal server eval (no real evaluation)\n",
    "            net = self.model_cls().to(self.device)\n",
    "            set_parameters(net, parameters)\n",
    "            print(f\"[Server] Round {server_round} - no global evaluation implemented.\")\n",
    "            return None\n",
    "\n",
    "        def weighted_average(metrics: List[Tuple[int, Dict[str, Scalar]]]) -> Dict[str, Scalar]:\n",
    "            accuracies = [num_examples * m[\"accuracy\"] for num_examples, m in metrics]\n",
    "            examples = [num_examples for num_examples, _ in metrics]\n",
    "            if sum(examples) == 0:\n",
    "                return {\"accuracy\": 0.0}\n",
    "            return {\"accuracy\": sum(accuracies) / sum(examples)}\n",
    "\n",
    "        default_strategy = DefaultStrategy(\n",
    "            model = self.model_cls,\n",
    "            total_round = self.num_rounds,\n",
    "            only_last = save_only_last,\n",
    "            fraction_fit=1.0,\n",
    "            fraction_evaluate=1.0,\n",
    "            min_fit_clients=self.num_clients,\n",
    "            min_evaluate_clients=self.num_clients,\n",
    "            min_available_clients=self.num_clients,\n",
    "            evaluate_fn=server_evaluate,\n",
    "            evaluate_metrics_aggregation_fn=weighted_average,\n",
    "        )\n",
    "        return default_strategy\n",
    "\n",
    "    def _client_fn(self, context: Context) -> Client:\n",
    "        \"\"\"Construct one Flower client using the partition_id to pick (train, val, test).\"\"\"\n",
    "        subset_amount = 0.2\n",
    "        partition_id = context.node_config[\"partition-id\"]\n",
    "        trainloader, valloader, _ = self.client_loaders[partition_id]\n",
    "        net = self.client_nets[partition_id]\n",
    "        client = FLClient(\n",
    "            net=net,\n",
    "            trainloader=trainloader,\n",
    "            valloader=valloader,\n",
    "            device=self.device,\n",
    "            client_id=partition_id,\n",
    "            epochs=self.local_epochs\n",
    "        )\n",
    "        return client.to_client()\n",
    "\n",
    "    def _server_fn(self, context: Context) -> ServerAppComponents:\n",
    "        \"\"\"Server-side: configure strategy and server config.\"\"\"\n",
    "        config = ServerConfig(num_rounds=self.num_rounds)\n",
    "        return ServerAppComponents(strategy=self.strategy, config=config)\n",
    "\n",
    "    def run(self, save_only_last: bool = True) -> None:\n",
    "        \"\"\"Run the federated learning simulation and store final client/server models.\n",
    "        \n",
    "        Args:\n",
    "            save_only_last (bool): Save only the last round of models.\n",
    "                Default True. If False, all models will be saved.\n",
    "        \"\"\"\n",
    "        print(\"[FLExperiment] Starting federated training...\")\n",
    "        self.strategy = self._create_default_strategy(save_only_last=save_only_last)\n",
    "        client_app = ClientApp(client_fn=self._client_fn)\n",
    "        server_app = ServerApp(server_fn=self._server_fn)\n",
    "\n",
    "        # Resource allocation\n",
    "        if self.device.type == \"cuda\":\n",
    "            backend_config = {\"client_resources\": {\"num_cpus\": 1, \"num_gpus\": 1.0}}\n",
    "        else:\n",
    "            backend_config = {\"client_resources\": {\"num_cpus\": 1, \"num_gpus\": 0.0}}\n",
    "\n",
    "        # Run the simulation\n",
    "        run_simulation(\n",
    "            client_app=client_app,\n",
    "            server_app=server_app,\n",
    "            num_supernodes=self.num_clients,\n",
    "            backend_config=backend_config,\n",
    "        )\n",
    "        print(\"[FLExperiment] Federated training finished.\")\n",
    "\n",
    "    def get_clients(self, round_num: int = 0) -> List[nn.Module]:\n",
    "        \"\"\"Return final trained models for all clients (if they have been saved).\n",
    "        \n",
    "        Args:\n",
    "            round_num (int): Round number to fetch models from. Default 0 (last round).\n",
    "        \n",
    "        Returns:\n",
    "            List[nn.Module]: List of final trained models for all clients.\n",
    "                The index of the list corresponds to the client ID \n",
    "                and the index of dataloader. \n",
    "        \"\"\"\n",
    "        assert round_num <= self.num_rounds, f\"Round {round_num} not available, only {self.num_rounds} rounds.\"\n",
    "        if round_num <= 0:\n",
    "            round_num = self.num_rounds\n",
    "        try:\n",
    "            return [\n",
    "                torch.load(f\"models/client-{round_num}-{cid}.pth\", map_location=self.device, weights_only=True)\n",
    "                for cid in range(self.num_clients)\n",
    "            ]\n",
    "        except FileNotFoundError:\n",
    "            raise RuntimeError(\"Client models are not available. Have you called run() or set only_last=True?\")\n",
    "    \n",
    "    def get_client_dataloader_tuples(self, round_num: int = 0) -> List[Tuple[nn.Module, Tuple[DataLoader, DataLoader, DataLoader]]]:\n",
    "        \"\"\"Return the dataloaders for all clients.\n",
    "         \n",
    "        Args:\n",
    "            round_num (int): Round number to fetch models from. Default 0 (last round).\n",
    "        \n",
    "        Returns:\n",
    "            List[Tuple[nn.Module, Tuple[DataLoader, DataLoader, DataLoader]]]:\n",
    "                List of (client_model, (train_loader, val_loader, test_loader))\n",
    "        \"\"\"\n",
    "        assert round_num <= self.num_rounds, f\"Round {round_num} not available, only {self.num_rounds} rounds.\"\n",
    "        if round_num <= 0:\n",
    "            round_num = self.num_rounds\n",
    "        try:\n",
    "            clients = self.get_clients(round_num)\n",
    "            return list(zip(clients, self.client_loaders)) \n",
    "        except FileNotFoundError:\n",
    "            raise RuntimeError(\"Client dataloaders are not available. Have you called run() or set only_last=True?\")\n",
    "\n",
    "    def get_server(self, round_num: int = 0) -> nn.Module:\n",
    "        \"\"\"Return the final server model (if stored).\n",
    "\n",
    "        Args:\n",
    "            round_num (int): Round number to fetch models from. Default 0 (last round).\n",
    "        \n",
    "        Returns:\n",
    "            nn.Module: The final server model.\n",
    "        \"\"\"\n",
    "        assert round_num <= self.num_rounds, f\"Round {round_num} not available, only {self.num_rounds} rounds.\"\n",
    "        if round_num <= 0:\n",
    "            round_num = self.num_rounds\n",
    "        try:\n",
    "            return torch.load(f\"models/server-{round_num}.pth\", map_location=self.device, weights_only=True)\n",
    "        except FileNotFoundError:\n",
    "            raise RuntimeError(\"Server model is not available. Have you called run() or set only_last=True?\")\n",
    "    "
   ]
  },
  {
   "cell_type": "code",
   "execution_count": 19,
   "metadata": {},
   "outputs": [],
   "source": [
    "# Test the client model 0 on the corresponding test set\n",
    "def print_results(fl_exp, ignore_clients = [], loader_override = None):\n",
    "    loader_override = loader_override or loaders\n",
    "    clients = fl_exp.get_clients()\n",
    "    mean_accuracy = 0\n",
    "    acc_count = 0\n",
    "    for i in range(len(clients)):\n",
    "        if(i in ignore_clients):\n",
    "            continue\n",
    "        \n",
    "        acc_count += 1\n",
    "        model0_1 = Net().to(DEVICE)\n",
    "        model0_1.load_state_dict(clients[i])\n",
    "        model0_1.eval()\n",
    "\n",
    "        _, _, test_loader_1 = loader_override[i]\n",
    "        loss, accuracy = test(model0_1, test_loader_1, \"cuda\")\n",
    "        print(f\"Client {i} accuracy: {accuracy}\")\n",
    "        mean_accuracy += accuracy\n",
    "    \n",
    "    mean_accuracy /= max(acc_count, 1)\n",
    "\n",
    "    '''\n",
    "    # Or Alternatively\n",
    "    client_dls = fl_exp.get_client_dataloader_tuples()\n",
    "    model0_2 = Net().to(DEVICE)\n",
    "    model0_2.load_state_dict(client_dls[0][0])\n",
    "    model0_2.eval()\n",
    "\n",
    "    _, _, test_loader_2 = client_dls[0][1]\n",
    "    loss, accuracy = test(model0_2, test_loader_2, \"cpu\")\n",
    "    print(f\"Client {i} accuracy: {accuracy}\")\n",
    "    '''\n",
    "\n",
    "    # Test the server\n",
    "    server = fl_exp.get_server()\n",
    "    model_s = Net().to(DEVICE)\n",
    "    model_s.load_state_dict(server)\n",
    "    model_s.eval()\n",
    "\n",
    "    _, _, test_loader_s = loader_override[0]\n",
    "    loss, accuracy = test(model_s, test_loader_s, \"cuda\")\n",
    "    print(f\"Server accuracy: {accuracy}\")\n",
    "    print(f\"Mean accuracy: {mean_accuracy}\")\n",
    "    return mean_accuracy"
   ]
  },
  {
   "cell_type": "code",
   "execution_count": null,
   "metadata": {},
   "outputs": [],
   "source": [
    "fl_exp = FLExperiment(\n",
    "    model_cls=Net,\n",
    "    client_loaders=loaders,\n",
    "    num_clients=2,\n",
    "    num_rounds=3,\n",
    ")\n",
    "\n",
    "\n",
    "fl_exp.run(True)\n",
    "print_results(fl_exp)"
   ]
  },
  {
   "cell_type": "markdown",
   "metadata": {},
   "source": [
    "# Accuracy vs #Clients"
   ]
  },
  {
   "cell_type": "code",
   "execution_count": null,
   "metadata": {},
   "outputs": [],
   "source": [
    "import os\n",
    "\n",
    "os.makedirs(os.path.dirname(\"results/mono_vs_federated.txt\"), exist_ok=True)\n",
    "\n",
    "maxClients = 6\n",
    "rounds = 3\n",
    "repeats = 1\n",
    "\n",
    "# MonoVsFederated Test\n",
    "for t in range(0, maxClients):\n",
    "    i = maxClients - t\n",
    "    fl_exp = FLExperiment(\n",
    "        model_cls=Net,\n",
    "        client_loaders=loaders,\n",
    "        num_clients=i,\n",
    "        num_rounds=rounds,\n",
    "    )\n",
    "\n",
    "    fl_exp.run(True)\n",
    "    accuracy = print_results(fl_exp)\n",
    "    with open(\"results/mono_vs_federated.txt\", \"a\") as result_file:\n",
    "        result_file.write(f\"{i},{maxClients},{accuracy}\")\n",
    "        result_file.write(\"\\n\")\n"
   ]
  },
  {
   "cell_type": "code",
   "execution_count": null,
   "metadata": {},
   "outputs": [],
   "source": [
    "import os\n",
    "\n",
    "os.makedirs(os.path.dirname(\"results/mono_vs_federated.txt\"), exist_ok=True)\n",
    "\n",
    "numClients = 7\n",
    "rounds = 3\n",
    "repeats = 4\n",
    "\n",
    "# MonoVsFederated Test\n",
    "for t in range(0, repeats):\n",
    "    i = numClients\n",
    "    fl_exp = FLExperiment(\n",
    "        model_cls=Net,\n",
    "        client_loaders=loaders,\n",
    "        num_clients=i,\n",
    "        num_rounds=rounds,\n",
    "    )\n",
    "\n",
    "    fl_exp.run(True)\n",
    "    accuracy = print_results(fl_exp)\n",
    "    with open(\"results/mono_vs_federated.txt\", \"a\") as result_file:\n",
    "        result_file.write(f\"{i},{numClients},{accuracy}\")\n",
    "        result_file.write(\"\\n\")\n"
   ]
  },
  {
   "cell_type": "markdown",
   "metadata": {},
   "source": [
    "# Rogue actors"
   ]
  },
  {
   "cell_type": "code",
   "execution_count": null,
   "metadata": {},
   "outputs": [],
   "source": [
    "os.makedirs(os.path.dirname(\"results/rogue_actors.txt\"), exist_ok=True)\n",
    "\n",
    "numClients = 5\n",
    "noise_interval_amount = 5\n",
    "\n",
    "def simulate_rogue(rogue_actor_count, noise_amount):\n",
    "    rogue_loaders = []\n",
    "    for j in range(numClients):\n",
    "        if j < rogue_actor_count:\n",
    "            rogue_loaders.append(create_loader(subsets[j], \"White noise\"))\n",
    "        else:\n",
    "            rogue_loaders.append(create_loader(subsets[j], \"Default\"))\n",
    "                                    \n",
    "    \n",
    "    fl_exp = FLExperiment(\n",
    "        model_cls=Net,\n",
    "        client_loaders=rogue_loaders,\n",
    "        num_clients=numClients,\n",
    "        num_rounds=3,\n",
    "    )\n",
    "\n",
    "\n",
    "    fl_exp.run(True)\n",
    "    accuracy = print_results(fl_exp, range(rogue_actor_count))\n",
    "    with open(\"results/rogue_actors.txt\", \"a\") as result_file:\n",
    "        result_file.write(f\"{rogue_actor_count},{noise_amount},{accuracy}\")\n",
    "        result_file.write(\"\\n\")\n",
    "\n",
    "for i in range(0, noise_interval_amount + 1):\n",
    "    noise_amount = (1 / noise_interval_amount) * i\n",
    "    noiseImg = LerpToWhiteNoise(alpha=noise_amount)\n",
    "    for rogue_actor_count in range(numClients):\n",
    "        simulate_rogue(rogue_actor_count, noise_amount)\n",
    "        \n",
    "        "
   ]
  },
  {
   "cell_type": "markdown",
   "metadata": {},
   "source": [
    "# Different Means"
   ]
  },
  {
   "cell_type": "code",
   "execution_count": 25,
   "metadata": {},
   "outputs": [
    {
     "name": "stderr",
     "output_type": "stream",
     "text": [
      "\u001b[92mINFO \u001b[0m:      Starting Flower ServerApp, config: num_rounds=3, no round_timeout\n",
      "\u001b[92mINFO \u001b[0m:      \n",
      "\u001b[92mINFO \u001b[0m:      [INIT]\n",
      "\u001b[92mINFO \u001b[0m:      Requesting initial parameters from one random client\n"
     ]
    },
    {
     "name": "stdout",
     "output_type": "stream",
     "text": [
      "[FLExperiment] Starting federated training...\n"
     ]
    },
    {
     "name": "stderr",
     "output_type": "stream",
     "text": [
      "\u001b[92mINFO \u001b[0m:      Received initial parameters from one random client\n",
      "\u001b[92mINFO \u001b[0m:      Starting evaluation of initial global parameters\n",
      "\u001b[92mINFO \u001b[0m:      Evaluation returned no results (`None`)\n",
      "\u001b[92mINFO \u001b[0m:      \n",
      "\u001b[92mINFO \u001b[0m:      [ROUND 1]\n",
      "\u001b[92mINFO \u001b[0m:      configure_fit: strategy sampled 5 clients (out of 5)\n"
     ]
    },
    {
     "name": "stdout",
     "output_type": "stream",
     "text": [
      "[Server] Round 0 - no global evaluation implemented.\n"
     ]
    },
    {
     "name": "stderr",
     "output_type": "stream",
     "text": [
      "\u001b[36m(ClientAppActor pid=4084)\u001b[0m C:\\Users\\andri\\AppData\\Local\\Temp\\ipykernel_8656\\1846299781.py:60: DeprecationWarning: __array__ implementation doesn't accept a copy keyword, so passing copy=False failed. __array__ must implement 'dtype' and 'copy' keyword arguments. To learn more, see the migration guide https://numpy.org/devdocs/numpy_2_0_migration_guide.html#adapting-to-changes-in-the-copy-keyword\n",
      "\u001b[36m(ClientAppActor pid=4084)\u001b[0m C:\\Users\\andri\\AppData\\Local\\Temp\\ipykernel_8656\\1846299781.py:60: DeprecationWarning: __array__ implementation doesn't accept a copy keyword, so passing copy=False failed. __array__ must implement 'dtype' and 'copy' keyword arguments. To learn more, see the migration guide https://numpy.org/devdocs/numpy_2_0_migration_guide.html#adapting-to-changes-in-the-copy-keyword\n",
      "\u001b[36m(ClientAppActor pid=4084)\u001b[0m C:\\Users\\andri\\AppData\\Local\\Temp\\ipykernel_8656\\1846299781.py:60: DeprecationWarning: __array__ implementation doesn't accept a copy keyword, so passing copy=False failed. __array__ must implement 'dtype' and 'copy' keyword arguments. To learn more, see the migration guide https://numpy.org/devdocs/numpy_2_0_migration_guide.html#adapting-to-changes-in-the-copy-keyword\n",
      "\u001b[36m(ClientAppActor pid=4084)\u001b[0m C:\\Users\\andri\\AppData\\Local\\Temp\\ipykernel_8656\\1846299781.py:60: DeprecationWarning: __array__ implementation doesn't accept a copy keyword, so passing copy=False failed. __array__ must implement 'dtype' and 'copy' keyword arguments. To learn more, see the migration guide https://numpy.org/devdocs/numpy_2_0_migration_guide.html#adapting-to-changes-in-the-copy-keyword\n",
      "\u001b[36m(ClientAppActor pid=4084)\u001b[0m C:\\Users\\andri\\AppData\\Local\\Temp\\ipykernel_8656\\1846299781.py:60: DeprecationWarning: __array__ implementation doesn't accept a copy keyword, so passing copy=False failed. __array__ must implement 'dtype' and 'copy' keyword arguments. To learn more, see the migration guide https://numpy.org/devdocs/numpy_2_0_migration_guide.html#adapting-to-changes-in-the-copy-keyword\n",
      "\u001b[92mINFO \u001b[0m:      aggregate_fit: received 5 results and 0 failures\n",
      "\u001b[93mWARNING \u001b[0m:   No fit_metrics_aggregation_fn provided\n",
      "\u001b[92mINFO \u001b[0m:      configure_evaluate: strategy sampled 5 clients (out of 5)\n"
     ]
    },
    {
     "name": "stdout",
     "output_type": "stream",
     "text": [
      "[Server] Round 1 - no global evaluation implemented.\n"
     ]
    },
    {
     "name": "stderr",
     "output_type": "stream",
     "text": [
      "\u001b[36m(ClientAppActor pid=4084)\u001b[0m C:\\Users\\andri\\AppData\\Local\\Temp\\ipykernel_8656\\1846299781.py:60: DeprecationWarning: __array__ implementation doesn't accept a copy keyword, so passing copy=False failed. __array__ must implement 'dtype' and 'copy' keyword arguments. To learn more, see the migration guide https://numpy.org/devdocs/numpy_2_0_migration_guide.html#adapting-to-changes-in-the-copy-keyword\n"
     ]
    },
    {
     "name": "stdout",
     "output_type": "stream",
     "text": [
      "\u001b[36m(ClientAppActor pid=4084)\u001b[0m [Client 0] Evaluate -> Loss: 0.0830, Accuracy: 0.1550\n"
     ]
    },
    {
     "name": "stderr",
     "output_type": "stream",
     "text": [
      "\u001b[36m(ClientAppActor pid=4084)\u001b[0m C:\\Users\\andri\\AppData\\Local\\Temp\\ipykernel_8656\\1846299781.py:60: DeprecationWarning: __array__ implementation doesn't accept a copy keyword, so passing copy=False failed. __array__ must implement 'dtype' and 'copy' keyword arguments. To learn more, see the migration guide https://numpy.org/devdocs/numpy_2_0_migration_guide.html#adapting-to-changes-in-the-copy-keyword\n"
     ]
    },
    {
     "name": "stdout",
     "output_type": "stream",
     "text": [
      "\u001b[36m(ClientAppActor pid=4084)\u001b[0m [Client 1] Evaluate -> Loss: 0.0870, Accuracy: 0.1500\n"
     ]
    },
    {
     "name": "stderr",
     "output_type": "stream",
     "text": [
      "\u001b[36m(ClientAppActor pid=4084)\u001b[0m C:\\Users\\andri\\AppData\\Local\\Temp\\ipykernel_8656\\1846299781.py:60: DeprecationWarning: __array__ implementation doesn't accept a copy keyword, so passing copy=False failed. __array__ must implement 'dtype' and 'copy' keyword arguments. To learn more, see the migration guide https://numpy.org/devdocs/numpy_2_0_migration_guide.html#adapting-to-changes-in-the-copy-keyword\n"
     ]
    },
    {
     "name": "stdout",
     "output_type": "stream",
     "text": [
      "\u001b[36m(ClientAppActor pid=4084)\u001b[0m [Client 2] Evaluate -> Loss: 0.0525, Accuracy: 0.4230\n"
     ]
    },
    {
     "name": "stderr",
     "output_type": "stream",
     "text": [
      "\u001b[36m(ClientAppActor pid=4084)\u001b[0m C:\\Users\\andri\\AppData\\Local\\Temp\\ipykernel_8656\\1846299781.py:60: DeprecationWarning: __array__ implementation doesn't accept a copy keyword, so passing copy=False failed. __array__ must implement 'dtype' and 'copy' keyword arguments. To learn more, see the migration guide https://numpy.org/devdocs/numpy_2_0_migration_guide.html#adapting-to-changes-in-the-copy-keyword\n"
     ]
    },
    {
     "name": "stdout",
     "output_type": "stream",
     "text": [
      "\u001b[36m(ClientAppActor pid=4084)\u001b[0m [Client 3] Evaluate -> Loss: 0.0624, Accuracy: 0.2930\n"
     ]
    },
    {
     "name": "stderr",
     "output_type": "stream",
     "text": [
      "\u001b[36m(ClientAppActor pid=4084)\u001b[0m C:\\Users\\andri\\AppData\\Local\\Temp\\ipykernel_8656\\1846299781.py:60: DeprecationWarning: __array__ implementation doesn't accept a copy keyword, so passing copy=False failed. __array__ must implement 'dtype' and 'copy' keyword arguments. To learn more, see the migration guide https://numpy.org/devdocs/numpy_2_0_migration_guide.html#adapting-to-changes-in-the-copy-keyword\n",
      "\u001b[92mINFO \u001b[0m:      aggregate_evaluate: received 5 results and 0 failures\n",
      "\u001b[92mINFO \u001b[0m:      \n",
      "\u001b[92mINFO \u001b[0m:      [ROUND 2]\n",
      "\u001b[92mINFO \u001b[0m:      configure_fit: strategy sampled 5 clients (out of 5)\n"
     ]
    },
    {
     "name": "stdout",
     "output_type": "stream",
     "text": [
      "\u001b[36m(ClientAppActor pid=4084)\u001b[0m [Client 4] Evaluate -> Loss: 0.0518, Accuracy: 0.4060\n"
     ]
    },
    {
     "name": "stderr",
     "output_type": "stream",
     "text": [
      "\u001b[36m(ClientAppActor pid=4084)\u001b[0m C:\\Users\\andri\\AppData\\Local\\Temp\\ipykernel_8656\\1846299781.py:60: DeprecationWarning: __array__ implementation doesn't accept a copy keyword, so passing copy=False failed. __array__ must implement 'dtype' and 'copy' keyword arguments. To learn more, see the migration guide https://numpy.org/devdocs/numpy_2_0_migration_guide.html#adapting-to-changes-in-the-copy-keyword\n",
      "\u001b[36m(ClientAppActor pid=4084)\u001b[0m C:\\Users\\andri\\AppData\\Local\\Temp\\ipykernel_8656\\1846299781.py:60: DeprecationWarning: __array__ implementation doesn't accept a copy keyword, so passing copy=False failed. __array__ must implement 'dtype' and 'copy' keyword arguments. To learn more, see the migration guide https://numpy.org/devdocs/numpy_2_0_migration_guide.html#adapting-to-changes-in-the-copy-keyword\n",
      "\u001b[36m(ClientAppActor pid=4084)\u001b[0m C:\\Users\\andri\\AppData\\Local\\Temp\\ipykernel_8656\\1846299781.py:60: DeprecationWarning: __array__ implementation doesn't accept a copy keyword, so passing copy=False failed. __array__ must implement 'dtype' and 'copy' keyword arguments. To learn more, see the migration guide https://numpy.org/devdocs/numpy_2_0_migration_guide.html#adapting-to-changes-in-the-copy-keyword\n",
      "\u001b[36m(ClientAppActor pid=4084)\u001b[0m C:\\Users\\andri\\AppData\\Local\\Temp\\ipykernel_8656\\1846299781.py:60: DeprecationWarning: __array__ implementation doesn't accept a copy keyword, so passing copy=False failed. __array__ must implement 'dtype' and 'copy' keyword arguments. To learn more, see the migration guide https://numpy.org/devdocs/numpy_2_0_migration_guide.html#adapting-to-changes-in-the-copy-keyword\n",
      "\u001b[36m(ClientAppActor pid=4084)\u001b[0m C:\\Users\\andri\\AppData\\Local\\Temp\\ipykernel_8656\\1846299781.py:60: DeprecationWarning: __array__ implementation doesn't accept a copy keyword, so passing copy=False failed. __array__ must implement 'dtype' and 'copy' keyword arguments. To learn more, see the migration guide https://numpy.org/devdocs/numpy_2_0_migration_guide.html#adapting-to-changes-in-the-copy-keyword\n",
      "\u001b[92mINFO \u001b[0m:      aggregate_fit: received 5 results and 0 failures\n",
      "\u001b[92mINFO \u001b[0m:      configure_evaluate: strategy sampled 5 clients (out of 5)\n"
     ]
    },
    {
     "name": "stdout",
     "output_type": "stream",
     "text": [
      "[Server] Round 2 - no global evaluation implemented.\n"
     ]
    },
    {
     "name": "stderr",
     "output_type": "stream",
     "text": [
      "\u001b[36m(ClientAppActor pid=4084)\u001b[0m C:\\Users\\andri\\AppData\\Local\\Temp\\ipykernel_8656\\1846299781.py:60: DeprecationWarning: __array__ implementation doesn't accept a copy keyword, so passing copy=False failed. __array__ must implement 'dtype' and 'copy' keyword arguments. To learn more, see the migration guide https://numpy.org/devdocs/numpy_2_0_migration_guide.html#adapting-to-changes-in-the-copy-keyword\n"
     ]
    },
    {
     "name": "stdout",
     "output_type": "stream",
     "text": [
      "\u001b[36m(ClientAppActor pid=4084)\u001b[0m [Client 0] Evaluate -> Loss: 0.0695, Accuracy: 0.2360\n"
     ]
    },
    {
     "name": "stderr",
     "output_type": "stream",
     "text": [
      "\u001b[36m(ClientAppActor pid=4084)\u001b[0m C:\\Users\\andri\\AppData\\Local\\Temp\\ipykernel_8656\\1846299781.py:60: DeprecationWarning: __array__ implementation doesn't accept a copy keyword, so passing copy=False failed. __array__ must implement 'dtype' and 'copy' keyword arguments. To learn more, see the migration guide https://numpy.org/devdocs/numpy_2_0_migration_guide.html#adapting-to-changes-in-the-copy-keyword\n"
     ]
    },
    {
     "name": "stdout",
     "output_type": "stream",
     "text": [
      "\u001b[36m(ClientAppActor pid=4084)\u001b[0m [Client 1] Evaluate -> Loss: 0.0775, Accuracy: 0.3080\n"
     ]
    },
    {
     "name": "stderr",
     "output_type": "stream",
     "text": [
      "\u001b[36m(ClientAppActor pid=4084)\u001b[0m C:\\Users\\andri\\AppData\\Local\\Temp\\ipykernel_8656\\1846299781.py:60: DeprecationWarning: __array__ implementation doesn't accept a copy keyword, so passing copy=False failed. __array__ must implement 'dtype' and 'copy' keyword arguments. To learn more, see the migration guide https://numpy.org/devdocs/numpy_2_0_migration_guide.html#adapting-to-changes-in-the-copy-keyword\n"
     ]
    },
    {
     "name": "stdout",
     "output_type": "stream",
     "text": [
      "\u001b[36m(ClientAppActor pid=4084)\u001b[0m [Client 2] Evaluate -> Loss: 0.0332, Accuracy: 0.6750\n"
     ]
    },
    {
     "name": "stderr",
     "output_type": "stream",
     "text": [
      "\u001b[36m(ClientAppActor pid=4084)\u001b[0m C:\\Users\\andri\\AppData\\Local\\Temp\\ipykernel_8656\\1846299781.py:60: DeprecationWarning: __array__ implementation doesn't accept a copy keyword, so passing copy=False failed. __array__ must implement 'dtype' and 'copy' keyword arguments. To learn more, see the migration guide https://numpy.org/devdocs/numpy_2_0_migration_guide.html#adapting-to-changes-in-the-copy-keyword\n"
     ]
    },
    {
     "name": "stdout",
     "output_type": "stream",
     "text": [
      "\u001b[36m(ClientAppActor pid=4084)\u001b[0m [Client 3] Evaluate -> Loss: 0.0393, Accuracy: 0.5970\n"
     ]
    },
    {
     "name": "stderr",
     "output_type": "stream",
     "text": [
      "\u001b[36m(ClientAppActor pid=4084)\u001b[0m C:\\Users\\andri\\AppData\\Local\\Temp\\ipykernel_8656\\1846299781.py:60: DeprecationWarning: __array__ implementation doesn't accept a copy keyword, so passing copy=False failed. __array__ must implement 'dtype' and 'copy' keyword arguments. To learn more, see the migration guide https://numpy.org/devdocs/numpy_2_0_migration_guide.html#adapting-to-changes-in-the-copy-keyword\n",
      "\u001b[92mINFO \u001b[0m:      aggregate_evaluate: received 5 results and 0 failures\n",
      "\u001b[92mINFO \u001b[0m:      \n",
      "\u001b[92mINFO \u001b[0m:      [ROUND 3]\n",
      "\u001b[92mINFO \u001b[0m:      configure_fit: strategy sampled 5 clients (out of 5)\n"
     ]
    },
    {
     "name": "stdout",
     "output_type": "stream",
     "text": [
      "\u001b[36m(ClientAppActor pid=4084)\u001b[0m [Client 4] Evaluate -> Loss: 0.0359, Accuracy: 0.5970\n"
     ]
    },
    {
     "name": "stderr",
     "output_type": "stream",
     "text": [
      "\u001b[36m(ClientAppActor pid=4084)\u001b[0m C:\\Users\\andri\\AppData\\Local\\Temp\\ipykernel_8656\\1846299781.py:60: DeprecationWarning: __array__ implementation doesn't accept a copy keyword, so passing copy=False failed. __array__ must implement 'dtype' and 'copy' keyword arguments. To learn more, see the migration guide https://numpy.org/devdocs/numpy_2_0_migration_guide.html#adapting-to-changes-in-the-copy-keyword\n",
      "\u001b[36m(ClientAppActor pid=4084)\u001b[0m C:\\Users\\andri\\AppData\\Local\\Temp\\ipykernel_8656\\1846299781.py:60: DeprecationWarning: __array__ implementation doesn't accept a copy keyword, so passing copy=False failed. __array__ must implement 'dtype' and 'copy' keyword arguments. To learn more, see the migration guide https://numpy.org/devdocs/numpy_2_0_migration_guide.html#adapting-to-changes-in-the-copy-keyword\n",
      "\u001b[36m(ClientAppActor pid=4084)\u001b[0m C:\\Users\\andri\\AppData\\Local\\Temp\\ipykernel_8656\\1846299781.py:60: DeprecationWarning: __array__ implementation doesn't accept a copy keyword, so passing copy=False failed. __array__ must implement 'dtype' and 'copy' keyword arguments. To learn more, see the migration guide https://numpy.org/devdocs/numpy_2_0_migration_guide.html#adapting-to-changes-in-the-copy-keyword\n",
      "\u001b[36m(ClientAppActor pid=4084)\u001b[0m C:\\Users\\andri\\AppData\\Local\\Temp\\ipykernel_8656\\1846299781.py:60: DeprecationWarning: __array__ implementation doesn't accept a copy keyword, so passing copy=False failed. __array__ must implement 'dtype' and 'copy' keyword arguments. To learn more, see the migration guide https://numpy.org/devdocs/numpy_2_0_migration_guide.html#adapting-to-changes-in-the-copy-keyword\n",
      "\u001b[36m(ClientAppActor pid=4084)\u001b[0m C:\\Users\\andri\\AppData\\Local\\Temp\\ipykernel_8656\\1846299781.py:60: DeprecationWarning: __array__ implementation doesn't accept a copy keyword, so passing copy=False failed. __array__ must implement 'dtype' and 'copy' keyword arguments. To learn more, see the migration guide https://numpy.org/devdocs/numpy_2_0_migration_guide.html#adapting-to-changes-in-the-copy-keyword\n",
      "\u001b[92mINFO \u001b[0m:      aggregate_fit: received 5 results and 0 failures\n",
      "\u001b[92mINFO \u001b[0m:      configure_evaluate: strategy sampled 5 clients (out of 5)\n"
     ]
    },
    {
     "name": "stdout",
     "output_type": "stream",
     "text": [
      "[Round 3] Saving model for client 0...\n",
      "[Round 3] Saving model for client 4...\n",
      "[Round 3] Saving model for client 3...\n",
      "[Round 3] Saving model for client 2...\n",
      "[Round 3] Saving model for client 1...\n",
      "Saving round 3 aggregated_parameters...\n",
      "[Server] Round 3 - no global evaluation implemented.\n"
     ]
    },
    {
     "name": "stderr",
     "output_type": "stream",
     "text": [
      "\u001b[36m(ClientAppActor pid=4084)\u001b[0m C:\\Users\\andri\\AppData\\Local\\Temp\\ipykernel_8656\\1846299781.py:60: DeprecationWarning: __array__ implementation doesn't accept a copy keyword, so passing copy=False failed. __array__ must implement 'dtype' and 'copy' keyword arguments. To learn more, see the migration guide https://numpy.org/devdocs/numpy_2_0_migration_guide.html#adapting-to-changes-in-the-copy-keyword\n"
     ]
    },
    {
     "name": "stdout",
     "output_type": "stream",
     "text": [
      "\u001b[36m(ClientAppActor pid=4084)\u001b[0m [Client 4] Evaluate -> Loss: 0.0254, Accuracy: 0.7110\n"
     ]
    },
    {
     "name": "stderr",
     "output_type": "stream",
     "text": [
      "\u001b[36m(ClientAppActor pid=4084)\u001b[0m C:\\Users\\andri\\AppData\\Local\\Temp\\ipykernel_8656\\1846299781.py:60: DeprecationWarning: __array__ implementation doesn't accept a copy keyword, so passing copy=False failed. __array__ must implement 'dtype' and 'copy' keyword arguments. To learn more, see the migration guide https://numpy.org/devdocs/numpy_2_0_migration_guide.html#adapting-to-changes-in-the-copy-keyword\n"
     ]
    },
    {
     "name": "stdout",
     "output_type": "stream",
     "text": [
      "\u001b[36m(ClientAppActor pid=4084)\u001b[0m [Client 0] Evaluate -> Loss: 0.0485, Accuracy: 0.4520\n"
     ]
    },
    {
     "name": "stderr",
     "output_type": "stream",
     "text": [
      "\u001b[36m(ClientAppActor pid=4084)\u001b[0m C:\\Users\\andri\\AppData\\Local\\Temp\\ipykernel_8656\\1846299781.py:60: DeprecationWarning: __array__ implementation doesn't accept a copy keyword, so passing copy=False failed. __array__ must implement 'dtype' and 'copy' keyword arguments. To learn more, see the migration guide https://numpy.org/devdocs/numpy_2_0_migration_guide.html#adapting-to-changes-in-the-copy-keyword\n"
     ]
    },
    {
     "name": "stdout",
     "output_type": "stream",
     "text": [
      "\u001b[36m(ClientAppActor pid=4084)\u001b[0m [Client 2] Evaluate -> Loss: 0.0218, Accuracy: 0.7780\n"
     ]
    },
    {
     "name": "stderr",
     "output_type": "stream",
     "text": [
      "\u001b[36m(ClientAppActor pid=4084)\u001b[0m C:\\Users\\andri\\AppData\\Local\\Temp\\ipykernel_8656\\1846299781.py:60: DeprecationWarning: __array__ implementation doesn't accept a copy keyword, so passing copy=False failed. __array__ must implement 'dtype' and 'copy' keyword arguments. To learn more, see the migration guide https://numpy.org/devdocs/numpy_2_0_migration_guide.html#adapting-to-changes-in-the-copy-keyword\n"
     ]
    },
    {
     "name": "stdout",
     "output_type": "stream",
     "text": [
      "\u001b[36m(ClientAppActor pid=4084)\u001b[0m [Client 3] Evaluate -> Loss: 0.0289, Accuracy: 0.6880\n"
     ]
    },
    {
     "name": "stderr",
     "output_type": "stream",
     "text": [
      "\u001b[36m(ClientAppActor pid=4084)\u001b[0m C:\\Users\\andri\\AppData\\Local\\Temp\\ipykernel_8656\\1846299781.py:60: DeprecationWarning: __array__ implementation doesn't accept a copy keyword, so passing copy=False failed. __array__ must implement 'dtype' and 'copy' keyword arguments. To learn more, see the migration guide https://numpy.org/devdocs/numpy_2_0_migration_guide.html#adapting-to-changes-in-the-copy-keyword\n",
      "\u001b[92mINFO \u001b[0m:      aggregate_evaluate: received 5 results and 0 failures\n",
      "\u001b[92mINFO \u001b[0m:      \n",
      "\u001b[92mINFO \u001b[0m:      [SUMMARY]\n",
      "\u001b[92mINFO \u001b[0m:      Run finished 3 round(s) in 248.43s\n",
      "\u001b[92mINFO \u001b[0m:      \tHistory (loss, distributed):\n",
      "\u001b[92mINFO \u001b[0m:      \t\tround 1: 0.06735732588768005\n",
      "\u001b[92mINFO \u001b[0m:      \t\tround 2: 0.05108210517168045\n",
      "\u001b[92mINFO \u001b[0m:      \t\tround 3: 0.037377982425689696\n",
      "\u001b[92mINFO \u001b[0m:      \tHistory (metrics, distributed, evaluate):\n",
      "\u001b[92mINFO \u001b[0m:      \t{'accuracy': [(1, 0.2854), (2, 0.4826), (3, 0.6104)]}\n",
      "\u001b[92mINFO \u001b[0m:      \n"
     ]
    },
    {
     "name": "stdout",
     "output_type": "stream",
     "text": [
      "\u001b[36m(ClientAppActor pid=4084)\u001b[0m [Client 1] Evaluate -> Loss: 0.0623, Accuracy: 0.4230\n",
      "[FLExperiment] Federated training finished.\n",
      "-----------------(12 0/5)-----------------\n",
      "Client 0 accuracy: 0.3415\n",
      "Client 1 accuracy: 0.152\n",
      "Client 2 accuracy: 0.3505\n",
      "Client 3 accuracy: 0.942\n",
      "Client 4 accuracy: 0.267\n",
      "Server accuracy: 0.684\n",
      "Mean accuracy: 0.41059999999999997\n"
     ]
    }
   ],
   "source": [
    "os.makedirs(os.path.dirname(\"results/random_means.txt\"), exist_ok=True)\n",
    "\n",
    "max_mean = 3\n",
    "numSteps = 5\n",
    "maxClients = 5\n",
    "repeats = 3\n",
    "\n",
    "for j in range(repeats):\n",
    "    for i in range(0, numSteps + 1):\n",
    "        mean_distance = (max_mean / numSteps) * i\n",
    "        mean_loaders = []\n",
    "        \n",
    "        for j in range(maxClients):\n",
    "            random_direction = np.random.rand(2) * mean_distance - mean_distance / 2\n",
    "            mean_loaders.append(create_loader(subsets[j], \"Random mean shift\"))\n",
    "                        \n",
    "        fl_exp = FLExperiment(\n",
    "            model_cls=Net,\n",
    "            client_loaders=mean_loaders,\n",
    "            num_clients=maxClients,\n",
    "            num_rounds=3,\n",
    "        )\n",
    "\n",
    "        fl_exp.run(True)\n",
    "        print(f\"-----------------({mean_distance} {i}/{numSteps})-----------------\")\n",
    "        accuracy = print_results(fl_exp, mean_loaders)\n",
    "        with open(\"results/random_means.txt\", \"a\") as result_file:\n",
    "            result_file.write(f\"{mean_distance},{accuracy}\")\n",
    "            result_file.write(\"\\n\")\n",
    "            "
   ]
  },
  {
   "cell_type": "code",
   "execution_count": null,
   "metadata": {},
   "outputs": [],
   "source": []
  }
 ],
 "metadata": {
  "kernelspec": {
   "display_name": ".venv",
   "language": "python",
   "name": "python3"
  },
  "language_info": {
   "codemirror_mode": {
    "name": "ipython",
    "version": 3
   },
   "file_extension": ".py",
   "mimetype": "text/x-python",
   "name": "python",
   "nbconvert_exporter": "python",
   "pygments_lexer": "ipython3",
   "version": "3.11.9"
  }
 },
 "nbformat": 4,
 "nbformat_minor": 2
}
